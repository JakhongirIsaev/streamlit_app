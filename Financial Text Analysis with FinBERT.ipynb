{
 "cells": [
  {
   "cell_type": "markdown",
   "id": "ea5af32e-847f-4d33-b51d-930077cce1af",
   "metadata": {},
   "source": [
    "Checking the environment "
   ]
  },
  {
   "cell_type": "code",
   "execution_count": 2,
   "id": "0e16fbe5-c313-4753-894c-793e3b37f413",
   "metadata": {},
   "outputs": [
    {
     "name": "stdout",
     "output_type": "stream",
     "text": [
      "C:\\Users\\Asus\\finbert_env\\Scripts\\python.exe\n"
     ]
    }
   ],
   "source": [
    "import sys\n",
    "print (sys.executable)"
   ]
  },
  {
   "cell_type": "markdown",
   "id": "940f648f-177b-49b9-a5c8-deec27e117fb",
   "metadata": {},
   "source": [
    "Important libraries"
   ]
  },
  {
   "cell_type": "code",
   "execution_count": 5,
   "id": "83044111-57b8-45fb-a446-0dcd9b7baaad",
   "metadata": {},
   "outputs": [],
   "source": [
    "from transformers import AutoTokenizer, AutoModelForSequenceClassification\n",
    "import torch \n",
    "import pandas as pd\n",
    "import numpy as np\n",
    "import matplotlib.pyplot as plt\n",
    "import seaborn as sns"
   ]
  },
  {
   "cell_type": "code",
   "execution_count": 8,
   "id": "f49d4b74-0dd5-4d3b-bb76-c8697eb9b66d",
   "metadata": {},
   "outputs": [
    {
     "data": {
      "text/plain": [
       "BertForSequenceClassification(\n",
       "  (bert): BertModel(\n",
       "    (embeddings): BertEmbeddings(\n",
       "      (word_embeddings): Embedding(30873, 768, padding_idx=0)\n",
       "      (position_embeddings): Embedding(512, 768)\n",
       "      (token_type_embeddings): Embedding(2, 768)\n",
       "      (LayerNorm): LayerNorm((768,), eps=1e-12, elementwise_affine=True)\n",
       "      (dropout): Dropout(p=0.1, inplace=False)\n",
       "    )\n",
       "    (encoder): BertEncoder(\n",
       "      (layer): ModuleList(\n",
       "        (0-11): 12 x BertLayer(\n",
       "          (attention): BertAttention(\n",
       "            (self): BertSdpaSelfAttention(\n",
       "              (query): Linear(in_features=768, out_features=768, bias=True)\n",
       "              (key): Linear(in_features=768, out_features=768, bias=True)\n",
       "              (value): Linear(in_features=768, out_features=768, bias=True)\n",
       "              (dropout): Dropout(p=0.1, inplace=False)\n",
       "            )\n",
       "            (output): BertSelfOutput(\n",
       "              (dense): Linear(in_features=768, out_features=768, bias=True)\n",
       "              (LayerNorm): LayerNorm((768,), eps=1e-12, elementwise_affine=True)\n",
       "              (dropout): Dropout(p=0.1, inplace=False)\n",
       "            )\n",
       "          )\n",
       "          (intermediate): BertIntermediate(\n",
       "            (dense): Linear(in_features=768, out_features=3072, bias=True)\n",
       "            (intermediate_act_fn): GELUActivation()\n",
       "          )\n",
       "          (output): BertOutput(\n",
       "            (dense): Linear(in_features=3072, out_features=768, bias=True)\n",
       "            (LayerNorm): LayerNorm((768,), eps=1e-12, elementwise_affine=True)\n",
       "            (dropout): Dropout(p=0.1, inplace=False)\n",
       "          )\n",
       "        )\n",
       "      )\n",
       "    )\n",
       "    (pooler): BertPooler(\n",
       "      (dense): Linear(in_features=768, out_features=768, bias=True)\n",
       "      (activation): Tanh()\n",
       "    )\n",
       "  )\n",
       "  (dropout): Dropout(p=0.1, inplace=False)\n",
       "  (classifier): Linear(in_features=768, out_features=3, bias=True)\n",
       ")"
      ]
     },
     "execution_count": 8,
     "metadata": {},
     "output_type": "execute_result"
    }
   ],
   "source": [
    "#Loading tokennizer and model from hugging face\n",
    "\n",
    "tokenizer = AutoTokenizer.from_pretrained('yiyanghkust/finbert-tone')\n",
    "model = AutoModelForSequenceClassification.from_pretrained('yiyanghkust/finbert-tone')\n",
    "\n",
    "\n",
    "#evaluation mode of the model\n",
    "model.eval()"
   ]
  },
  {
   "cell_type": "code",
   "execution_count": 31,
   "id": "46964eb1-ce31-4523-875c-2cb2c830e4ac",
   "metadata": {},
   "outputs": [],
   "source": [
    "texts = [\n",
    "    \"The 2024 presidential election has ended, and Donald Trump is poised to retake the White house , with big implications for student loan forgiveness and repayment programs that would impact millions of borrowers\",\n",
    "    \"With recent policy shifts and the prospect of new tariffs on imported goods, consumers may start to see noticeable changes in grocery store prices.\",\n",
    "    \"This increase in prices contributes directly to inflation , which erodes the purchasing power of money.\"\n",
    "    \n",
    "]\n",
    "\n",
    "#Samples"
   ]
  },
  {
   "cell_type": "code",
   "execution_count": 32,
   "id": "dcaeed6f-5a31-4428-97f9-1c240a206e7a",
   "metadata": {},
   "outputs": [],
   "source": [
    "inputs = tokenizer(texts, padding = True, truncation = True, return_tensors = \"pt\")"
   ]
  },
  {
   "cell_type": "code",
   "execution_count": 33,
   "id": "8655c4e1-0bf0-42ca-b8b9-46d786bb305c",
   "metadata": {},
   "outputs": [
    {
     "name": "stdout",
     "output_type": "stream",
     "text": [
      "Text: The 2024 presidential election has ended, and Donald Trump is poised to retake the White house , with big implications for student loan forgiveness and repayment programs that would impact millions of borrowers\n",
      "Probabilities:\n",
      "  Neutral: 0.0269\n",
      "  positive: 0.0064\n",
      "  negative: 0.9666\n",
      "Predicted Sentiment: negative\n",
      "\n",
      "Text: With recent policy shifts and the prospect of new tariffs on imported goods, consumers may start to see noticeable changes in grocery store prices.\n",
      "Probabilities:\n",
      "  Neutral: 0.7940\n",
      "  positive: 0.0006\n",
      "  negative: 0.2054\n",
      "Predicted Sentiment: Neutral\n",
      "\n",
      "Text: This increase in prices contributes directly to inflation , which erodes the purchasing power of money.\n",
      "Probabilities:\n",
      "  Neutral: 0.0098\n",
      "  positive: 0.0056\n",
      "  negative: 0.9846\n",
      "Predicted Sentiment: negative\n",
      "\n"
     ]
    }
   ],
   "source": [
    "#Sentiment Analysis\n",
    "\n",
    "with torch.no_grad():\n",
    "    outputs = model(**inputs)\n",
    "\n",
    "logits = outputs.logits\n",
    "probabilities = torch.nn.functional.softmax(logits, dim=-1)\n",
    "predicted_labels = torch.argmax(probabilities, dim = 1)\n",
    "\n",
    "label_mapping = {0: 'Neutral', 1:'positive', 2: \"negative\"}\n",
    "sentiments = [label_mapping[label.item()] for label in predicted_labels]\n",
    "\n",
    "for i, text in enumerate(texts):\n",
    "    print(f'Text: {text}')\n",
    "    print(\"Probabilities:\")\n",
    "    for j, prob in enumerate(probabilities[i]):\n",
    "        sentiment_label = label_mapping[j]\n",
    "        print(f\"  {sentiment_label}: {prob.item():.4f}\")\n",
    "    print(f\"Predicted Sentiment: {sentiments[i]}\\n\")\n",
    "\n"
   ]
  },
  {
   "cell_type": "markdown",
   "id": "fd9abe4c-9677-466d-8657-d16701b6fcbc",
   "metadata": {},
   "source": [
    "Vizualization of Sentiment Distribution "
   ]
  },
  {
   "cell_type": "code",
   "execution_count": 34,
   "id": "60d2479d-77f0-4c3e-9c10-d3c2e5ff5a70",
   "metadata": {},
   "outputs": [
    {
     "data": {
      "image/png": "[encoded data removed]",
      "text/plain": [
       "<Figure size 640x480 with 1 Axes>"
      ]
     },
     "metadata": {},
     "output_type": "display_data"
    }
   ],
   "source": [
    "from collections import Counter\n",
    "\n",
    "sentiment_counts = Counter(sentiments)\n",
    "\n",
    "plt.bar(sentiment_counts.keys(), sentiment_counts.values(), color = [\"red\", \"blue\", \"green\"])\n",
    "plt.title(\"Sentiment Distribution\")\n",
    "plt.xlabel(\"Sentiment\")\n",
    "plt.ylabel(\"Frequency\")\n",
    "plt.show()"
   ]
  },
  {
   "cell_type": "code",
   "execution_count": null,
   "id": "c2d799a8-4188-4a35-8fc7-abcec5fb7e5f",
   "metadata": {},
   "outputs": [],
   "source": []
  },
  {
   "cell_type": "code",
   "execution_count": null,
   "id": "47123a51-99e8-40f5-a994-dfe584455a97",
   "metadata": {},
   "outputs": [],
   "source": []
  }
 ],
 "metadata": {
  "kernelspec": {
   "display_name": "Python (finbert_env)",
   "language": "python",
   "name": "finbert_env"
  },
  "language_info": {
   "codemirror_mode": {
    "name": "ipython",
    "version": 3
   },
   "file_extension": ".py",
   "mimetype": "text/x-python",
   "name": "python",
   "nbconvert_exporter": "python",
   "pygments_lexer": "ipython3",
   "version": "3.12.5"
  }
 },
 "nbformat": 4,
 "nbformat_minor": 5
}
